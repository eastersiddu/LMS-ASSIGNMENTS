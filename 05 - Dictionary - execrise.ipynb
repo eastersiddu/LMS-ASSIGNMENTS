{
 "cells": [
  {
   "cell_type": "markdown",
   "metadata": {},
   "source": [
    "# Assignment Instructions\n",
    "\n",
    "`Hello Innominion,`\n",
    "\n",
    "- **Try to attempt all the questions in every possible way.**\n",
    "- **Some other topics are required to solve some questions. don't panic.**\n",
    "- **Those questions can be answered after the topics are taught.**\n",
    "\n",
    "\n",
    "- `Join Mentoring Session for the Support/Doubts Resolving with Our Technical Mentors (2.00 PM - 6.00 PM  Mon-Sat)` \n",
    "\n",
    "Happy Learning !!!"
   ]
  },
  {
   "cell_type": "markdown",
   "metadata": {},
   "source": [
    "###  Dictionary"
   ]
  },
  {
   "cell_type": "markdown",
   "metadata": {},
   "source": [
    "**`Question :`Create Dictionary for following information as \"person1\":**\n",
    "   - Name = John\n",
    "   - Gender= Male\n",
    "   - Occupation = Data Scientist\n",
    "   - Location  = Nizampet, Hyderabad"
   ]
  },
  {
   "cell_type": "code",
   "execution_count": 14,
   "metadata": {},
   "outputs": [
    {
     "data": {
      "text/plain": [
       "{'Name': 'Easter',\n",
       " 'gender': 'male',\n",
       " 'Location': 'jntu,Hyderabad',\n",
       " 'Occupation': 'Data Scientist'}"
      ]
     },
     "execution_count": 14,
     "metadata": {},
     "output_type": "execute_result"
    }
   ],
   "source": [
    "# CODE HERE\n",
    "person1={'Name':'Easter','gender':'male','Location':'jntu,Hyderabad','Occupation':'Data Scientist'}\n",
    "person1"
   ]
  },
  {
   "cell_type": "markdown",
   "metadata": {},
   "source": [
    "> print keys in person1 as a list"
   ]
  },
  {
   "cell_type": "code",
   "execution_count": 15,
   "metadata": {},
   "outputs": [
    {
     "name": "stdout",
     "output_type": "stream",
     "text": [
      "['Name', 'gender', 'Location', 'Occupation']\n"
     ]
    }
   ],
   "source": [
    "# CODE HERE\n",
    "keys=[]\n",
    "for names in person1:\n",
    "    keys.append(names)\n",
    "print(keys)"
   ]
  },
  {
   "cell_type": "markdown",
   "metadata": {},
   "source": [
    "> **`Question:` Remove Location in person1**"
   ]
  },
  {
   "cell_type": "code",
   "execution_count": 16,
   "metadata": {},
   "outputs": [
    {
     "name": "stdout",
     "output_type": "stream",
     "text": [
      "{'Name': 'Easter', 'gender': 'male', 'Occupation': 'Data Scientist'}\n"
     ]
    }
   ],
   "source": [
    "# CODE HERE\n",
    "person1.pop(\"Location\")\n",
    "print(person1)"
   ]
  },
  {
   "cell_type": "markdown",
   "metadata": {},
   "source": [
    "> **`Question:` Create dictionary of person2 with**\n",
    "- Name  = Raghu Ram\n",
    "- Gender = Male\n",
    "- Age  = 25\n",
    "- Occupation = Data Scienctist"
   ]
  },
  {
   "cell_type": "code",
   "execution_count": 19,
   "metadata": {},
   "outputs": [
    {
     "data": {
      "text/plain": [
       "{'Name': 'Eastersiddu',\n",
       " 'Gender': 'Male',\n",
       " 'Occupation': 'Data Scientist',\n",
       " 'Age': 27}"
      ]
     },
     "execution_count": 19,
     "metadata": {},
     "output_type": "execute_result"
    }
   ],
   "source": [
    "# CODE HERE\n",
    "\n",
    "person2={\"Name\":\"Eastersiddu\",\"Gender\":\"Male\",\"Occupation\":\"Data Scientist\",\"Age\":27}\n",
    "person2"
   ]
  },
  {
   "cell_type": "markdown",
   "metadata": {},
   "source": [
    "> **`Question:` Print the output as show below**"
   ]
  },
  {
   "cell_type": "code",
   "execution_count": 20,
   "metadata": {},
   "outputs": [
    {
     "name": "stdout",
     "output_type": "stream",
     "text": [
      "==================== person1 ====================\n",
      "{'Name': 'Easter', 'gender': 'male', 'Occupation': 'Data Scientist'}\n",
      "==================== person2 ====================\n",
      "{'Name': 'Eastersiddu', 'Gender': 'Male', 'Occupation': 'Data Scientist', 'Age': 27}\n"
     ]
    }
   ],
   "source": [
    "# CODE HERE\n",
    "a=\"==================== person1 ====================\"\n",
    "b=\"==================== person2 ====================\"\n",
    "print(\"{}\".format(a))\n",
    "print(\"{}\".format(person1))\n",
    "print(\"{}\".format(b))\n",
    "print(\"{}\".format(person2))"
   ]
  },
  {
   "cell_type": "markdown",
   "metadata": {},
   "source": [
    "# create a dictionary\n",
    "#### `Question:` remove the elements from that dictionary using different methods\n",
    "{1: 1, 2: 4, 3: 9, 4: 16, 5: 25,6:36,7:49}"
   ]
  },
  {
   "cell_type": "code",
   "execution_count": 21,
   "metadata": {},
   "outputs": [
    {
     "name": "stdout",
     "output_type": "stream",
     "text": [
      "{3: 9, 4: 16, 5: 25, 7: 49}\n"
     ]
    }
   ],
   "source": [
    "# CODE HERE\n",
    "a={1: 1, 2: 4, 3: 9, 4: 16, 5: 25,6:36,7:49}\n",
    "a.pop(1)\n",
    "a.pop(2)\n",
    "a.pop(6)\n",
    "print(a)"
   ]
  },
  {
   "cell_type": "markdown",
   "metadata": {},
   "source": [
    "\n",
    "### `Question:` print the values from the given dictionary in descending order\n",
    "{0: 0, 1: 1, 3: 9, 5: 25, 7: 49, 9: 81}"
   ]
  },
  {
   "cell_type": "code",
   "execution_count": 25,
   "metadata": {},
   "outputs": [
    {
     "name": "stdout",
     "output_type": "stream",
     "text": [
      "[81, 49, 25, 9, 1, 0]\n"
     ]
    }
   ],
   "source": [
    "# CODE HERE\n",
    "d={0: 0, 1: 1, 3: 9, 5: 25, 7: 49, 9: 81}\n",
    "n=[]\n",
    "for num in d:\n",
    "    n.append(d[num])\n",
    "    v=n.sort()\n",
    "    n.reverse()\n",
    "print(n)"
   ]
  },
  {
   "cell_type": "markdown",
   "metadata": {},
   "source": [
    "### `Question:` merge the below 3 dictionaries\n",
    "dict1 = { 'a': 1, 'b': 2 }\n",
    "dict2 = { 'b': 3, 'c': 4 }\n",
    "dict3 = { 'c': 5, 'd': 6 }"
   ]
  },
  {
   "cell_type": "code",
   "execution_count": 26,
   "metadata": {},
   "outputs": [
    {
     "name": "stdout",
     "output_type": "stream",
     "text": [
      "{'a': 1, 'b': 3, 'c': 5, 'd': 6}\n"
     ]
    }
   ],
   "source": [
    "# CODE HERE\n",
    "dict1 = { 'a': 1, 'b': 2 }\n",
    "dict2 = { 'b': 3, 'c': 4 }\n",
    "dict3 = { 'c': 5, 'd': 6 }\n",
    "a={}\n",
    "for i in range(1):\n",
    "    a.update(dict1)\n",
    "    a.update(dict2)\n",
    "    a.update(dict3)\n",
    "print(a)"
   ]
  },
  {
   "cell_type": "code",
   "execution_count": 3,
   "metadata": {},
   "outputs": [
    {
     "name": "stdout",
     "output_type": "stream",
     "text": [
      "{'a': 1, 'b': 3, 'c': 5, 'd': 6}\n"
     ]
    }
   ],
   "source": [
    "\n",
    "dict1 = { 'a': 1, 'b': 2 }\n",
    "dict2 = { 'b': 3, 'c': 4 }\n",
    "dict3 = { 'c': 5, 'd': 6 }\n"
   ]
  },
  {
   "cell_type": "markdown",
   "metadata": {},
   "source": [
    "**`Question:` change Charan’s salary to 8500 in the following dictionary**"
   ]
  },
  {
   "cell_type": "raw",
   "metadata": {},
   "source": [
    "\n"
   ]
  },
  {
   "cell_type": "code",
   "execution_count": 30,
   "metadata": {},
   "outputs": [
    {
     "data": {
      "text/plain": [
       "{'emp1': {'name': 'easter', 'salary': 7500},\n",
       " 'emp2': {'name': 'teja', 'salary': 8000},\n",
       " 'emp3': {'name': 'manoj', 'salary': 8500}}"
      ]
     },
     "execution_count": 30,
     "metadata": {},
     "output_type": "execute_result"
    }
   ],
   "source": [
    "sample_dict = {\n",
    " 'emp1': {'name': 'easter', 'salary': 7500},\n",
    " 'emp2': {'name': 'teja', 'salary': 8000},\n",
    " 'emp3': {'name': 'ameem', 'salary': 6500}\n",
    "}\n",
    "sample_dict.update({'emp3': {'name': 'manoj', 'salary': 8500}})\n",
    "sample_dict"
   ]
  },
  {
   "cell_type": "markdown",
   "metadata": {},
   "source": [
    "**`Question:` Print the value of key ‘history’ from the below dict**"
   ]
  },
  {
   "cell_type": "raw",
   "metadata": {},
   "source": [
    "sampleDict = {\n",
    "    \"class\": {\n",
    "        \"student\": {\n",
    "            \"name\": \"Mike\",\n",
    "            \"marks\": {\n",
    "                \"physics\": 70,\n",
    "                \"history\": 80\n",
    "            }\n",
    "        }\n",
    "    }\n",
    "}"
   ]
  },
  {
   "cell_type": "code",
   "execution_count": 31,
   "metadata": {},
   "outputs": [
    {
     "name": "stdout",
     "output_type": "stream",
     "text": [
      "80\n"
     ]
    }
   ],
   "source": [
    "# CODE HERE\n",
    "sampleDict = {\n",
    "    \"class\": {\n",
    "      \"student\": {\n",
    "        \"name\": \"Mike\",\n",
    "        \"marks\": {\n",
    "           \"physics\": 70,\n",
    "            \"history\": 80\n",
    "           }\n",
    "        }\n",
    "     }\n",
    "  }\n",
    "\n",
    "a=sampleDict[\"class\"]\n",
    "b=a[\"student\"]\n",
    "c=b[\"marks\"]\n",
    "d=c[\"history\"]\n",
    "print(d)"
   ]
  },
  {
   "cell_type": "markdown",
   "metadata": {},
   "source": [
    "**`Question:` Rename a key Location to a Area in the following dictionary**"
   ]
  },
  {
   "cell_type": "raw",
   "metadata": {},
   "source": [
    "{'Gender': 'Male',\n",
    " 'Location': 'Nizampet, Hyderabad',\n",
    " 'Name': 'John',\n",
    " 'Occupation': 'Data Scientist'}"
   ]
  },
  {
   "cell_type": "code",
   "execution_count": 34,
   "metadata": {},
   "outputs": [],
   "source": [
    "# CODE HERE\n",
    "a={'Gender': 'Male',\n",
    "'Location': 'Nizampet, Hyderabad',\n",
    "'Name': 'Easter',\n",
    "'Occupation': 'Data Scientist'}"
   ]
  },
  {
   "cell_type": "code",
   "execution_count": 35,
   "metadata": {},
   "outputs": [
    {
     "data": {
      "text/plain": [
       "{'Gender': 'Male',\n",
       " 'Location': 'Nizampet, Hyderabad',\n",
       " 'Name': 'Easter',\n",
       " 'Occupation': 'Data Scientist'}"
      ]
     },
     "execution_count": 35,
     "metadata": {},
     "output_type": "execute_result"
    }
   ],
   "source": [
    "a"
   ]
  },
  {
   "cell_type": "markdown",
   "metadata": {},
   "source": [
    "**`Question:` database = {'ram':1234,'raghu':5678,'kanav':1357}**\n",
    "## Tasks :-\n",
    "### 1. if the username and password matches print hello username\n",
    "### 2. if the username and password doesnot match, ask, you want me to add into the database\n",
    "### 3. show the updated database list\n"
   ]
  },
  {
   "cell_type": "markdown",
   "metadata": {},
   "source": [
    "# [Innomatics Research Labs](https:/innomatics.in/)\n",
    "[www.innomatics.in](https:/innomatics.in/)"
   ]
  },
  {
   "cell_type": "code",
   "execution_count": 46,
   "metadata": {},
   "outputs": [
    {
     "name": "stdout",
     "output_type": "stream",
     "text": [
      "Enter your user name here : eastersiddu\n",
      "Password :1609\n",
      "\n",
      "Sorry! couldn't able to find your username in our data base\n",
      "\n",
      "Do you want to add your username as {} to the data\n",
      "type yes or no here : y\n",
      "\n",
      "Sorry! couldn't able to find your username in our data base\n",
      "\n",
      "Do you want to add your username as {} to the data\n",
      "type yes or no here : yes\n",
      "\n",
      "You have successfully registered into our database\n",
      "\n",
      " {'teja': 1234, 'ameem': 9848, 'keerthi': 1567, 'eastersiddu': 1609}\n"
     ]
    }
   ],
   "source": [
    "database={\"teja\":1234,\"ameem\":9848,\"keerthi\":1567}\n",
    "username=input(\"Enter your user name here : \")\n",
    "password=int(input(\"Password :\"))\n",
    "for names in database:\n",
    "    if names==username and database[names]==password:\n",
    "        print(\"hello {}\".format(username))\n",
    "        break\n",
    "    elif username not in database:\n",
    "        print(\"\\nSorry! couldn't able to find your username in our data base\\n\\nDo you want to add your username as {} to the data\")\n",
    "        yrn=input(\"type yes or no here : \")\n",
    "        if yrn==\"Yes\" or yrn==\"yes\":\n",
    "            database.update({username:password})\n",
    "            print(\"\\nYou have successfully registered into our database\")\n",
    "            print(\"\\n\",database)\n",
    "            break\n",
    "        elif yrn==\"no\" or yrn==\"No\":\n",
    "            print(\"\\nThankyou {}\\nhave a nice day\".format(username))\n",
    "            break"
   ]
  },
  {
   "cell_type": "code",
   "execution_count": null,
   "metadata": {},
   "outputs": [],
   "source": []
  }
 ],
 "metadata": {
  "kernelspec": {
   "display_name": "Python 3 (ipykernel)",
   "language": "python",
   "name": "python3"
  },
  "language_info": {
   "codemirror_mode": {
    "name": "ipython",
    "version": 3
   },
   "file_extension": ".py",
   "mimetype": "text/x-python",
   "name": "python",
   "nbconvert_exporter": "python",
   "pygments_lexer": "ipython3",
   "version": "3.9.13"
  }
 },
 "nbformat": 4,
 "nbformat_minor": 2
}
